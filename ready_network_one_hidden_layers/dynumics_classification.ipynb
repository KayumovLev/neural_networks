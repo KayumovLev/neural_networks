{
 "cells": [
  {
   "cell_type": "code",
   "execution_count": 1,
   "metadata": {},
   "outputs": [
    {
     "name": "stdout",
     "output_type": "stream",
     "text": [
      "pygame 2.5.2 (SDL 2.28.3, Python 3.8.1)\n",
      "Hello from the pygame community. https://www.pygame.org/contribute.html\n"
     ]
    }
   ],
   "source": [
    "#all our necessary libraries\n",
    "\n",
    "import tensorflow as tf\n",
    "import tensorflow_datasets as tfds\n",
    "import pandas as pd\n",
    "import numpy as np\n",
    "import matplotlib.pyplot as plt\n",
    "from sklearn import preprocessing\n",
    "from tqdm import tqdm\n",
    "from PIL import Image\n",
    "import time\n",
    "import pygame\n",
    "from IPython.display import display, clear_output"
   ]
  },
  {
   "cell_type": "code",
   "execution_count": null,
   "metadata": {},
   "outputs": [],
   "source": [
    "#training and test samples\n",
    "\n",
    "(train_images, train_labels), (test_images, test_labels) = tf.keras.datasets.mnist.load_data()"
   ]
  },
  {
   "cell_type": "code",
   "execution_count": null,
   "metadata": {},
   "outputs": [],
   "source": [
    "#output of the first 25 numbers using matplotlib\n",
    "plt.figure(figsize=(10,10))\n",
    "for i in range(25):\n",
    "    plt.subplot(5,5,i+1)\n",
    "    plt.imshow(train_images[i], cmap='gray')\n",
    "    plt.title(f\"Label: {train_labels[i]}\")\n",
    "    plt.axis('off')\n",
    "plt.show()"
   ]
  },
  {
   "cell_type": "code",
   "execution_count": null,
   "metadata": {},
   "outputs": [],
   "source": [
    "#function conversion to probabilities\n",
    "def softmax(x):\n",
    "    exp_x = np.exp(x - np.max(x, axis=1, keepdims=True))\n",
    "    return exp_x / np.sum(exp_x, axis=1, keepdims=True)\n",
    "\n",
    "#it is a classic of learning, but I need mainly its derivative from it to adjust the weights and not only\n",
    "def sigmoid(x, deriv = False):\n",
    "    if deriv == True:\n",
    "        return x * (1 - x)\n",
    "    return 1 / (1 + np.exp(-x))\n",
    "\n",
    "def relu(x): \n",
    "    return np.maximum(0.0, x)\n",
    "\n",
    "#here my personal functions begin, the first is to output which numbers are in the test sample\n",
    "def answer(pred):\n",
    "    output = []\n",
    "    for i in range(len(pred)):\n",
    "        pred_list = list(pred[i])\n",
    "        output.append(pred_list.index(max(pred[i])))\n",
    "    return output\n",
    "\n",
    "#accuracy of the neural network response\n",
    "def percent_true_answer(output, target):\n",
    "    outputs = 0\n",
    "    for i in range(len(output)):\n",
    "        pred_list = list(output[i])\n",
    "        if pred_list.index(max(output[i])) == target[i]:\n",
    "            outputs += 1\n",
    "\n",
    "    return outputs"
   ]
  },
  {
   "cell_type": "code",
   "execution_count": null,
   "metadata": {},
   "outputs": [],
   "source": [
    "#normalization of input training data\n",
    "matrix_x = train_images\n",
    "\n",
    "\n",
    "num_samples, num_rows, num_columns = matrix_x.shape\n",
    "\n",
    "#сonverting the array to a two-dimensional format to apply normalization to each column\n",
    "matrix_x_reshaped = matrix_x.reshape(num_samples, -1)\n",
    "\n",
    "#сreating an instance of MinMaxScaler\n",
    "scaler = preprocessing.MinMaxScaler()\n",
    "\n",
    "#we normalize with respect to each column\n",
    "scaler.fit(matrix_x_reshaped)\n",
    "matrix_x_normalized_reshaped = scaler.transform(matrix_x_reshaped)\n",
    "\n",
    "#returning the array to its original form\n",
    "matrix_x = matrix_x_normalized_reshaped.reshape(num_samples, num_rows, num_columns)\n",
    "\n",
    "#assigning the matrtix_target variable to the train_labels variable will be our test Y\n",
    "matrix_target = train_labels"
   ]
  },
  {
   "cell_type": "code",
   "execution_count": null,
   "metadata": {},
   "outputs": [],
   "source": [
    "#normalization of input test data \n",
    "\n",
    "matrix_test_x = test_images\n",
    "\n",
    "num_samples_test, num_rows_test, num_columns_test = matrix_test_x.shape\n",
    "\n",
    "matrix_test_x_reshaped = matrix_test_x.reshape(num_samples_test, -1)\n",
    "\n",
    "scaler.fit(matrix_test_x_reshaped)\n",
    "matrix_test_x_normalized_reshaped = scaler.transform(matrix_test_x_reshaped)\n",
    "\n",
    "matrix_test_x = matrix_test_x_normalized_reshaped.reshape(num_samples_test, num_rows_test, num_columns_test) \n",
    "\n",
    "matrix_test_target = test_labels"
   ]
  },
  {
   "cell_type": "code",
   "execution_count": null,
   "metadata": {},
   "outputs": [],
   "source": [
    "#the One Hot Encoding method for representing any numbers as zeros and one unit\n",
    "\n",
    "encoding = preprocessing.OneHotEncoder(sparse = False)\n",
    "matrix_target = encoding.fit_transform(matrix_target.reshape(-1, 1))\n",
    "matrix_test_target = encoding.fit_transform(matrix_test_target.reshape(-1, 1))"
   ]
  },
  {
   "cell_type": "code",
   "execution_count": null,
   "metadata": {},
   "outputs": [],
   "source": [
    "#initialization of weigths\n",
    "\n",
    "INP_DIM = len(matrix_x_reshaped.T)\n",
    "H_DIM = 350\n",
    "OUT_DIM = len(matrix_target.T)\n",
    "\n",
    "weights_1 = np.random.random((INP_DIM, H_DIM))\n",
    "weights_2 = np.random.random((H_DIM, OUT_DIM))"
   ]
  },
  {
   "cell_type": "code",
   "execution_count": null,
   "metadata": {},
   "outputs": [],
   "source": [
    "#learnng network\n",
    "\n",
    "for _ in tqdm(range(1000)):\n",
    "    #forward popagation\n",
    "    z_1 = np.dot(matrix_x_normalized_reshaped, weights_1)\n",
    "    a_1 = relu(preprocessing.normalize(z_1))\n",
    "\n",
    "    z_2 = np.dot(a_1, weights_2)\n",
    "    output = softmax(z_2)\n",
    "    \n",
    "    #back popagation\n",
    "    error_2 = matrix_target - output\n",
    "    deriv_2 = error_2 * sigmoid(output, deriv = True)\n",
    "\n",
    "    error_1 = np.dot(deriv_2, weights_2.T)\n",
    "    deriv_1 = error_1 * sigmoid(a_1, deriv = True)\n",
    "\n",
    "    weights_2 += np.dot(a_1.T, deriv_2) * 0.01\n",
    "    weights_1 += np.dot(matrix_x_normalized_reshaped.T, deriv_1) * 0.01\n",
    "    "
   ]
  },
  {
   "cell_type": "code",
   "execution_count": 26,
   "metadata": {},
   "outputs": [],
   "source": [
    "#use it if you want to see the accuracy on a test sample and you know the weights\n",
    "\n",
    "z_1 = np.dot(matrix_x_normalized_reshaped, weights_1)\n",
    "a_1 = relu(preprocessing.normalize(z_1))\n",
    "\n",
    "z_2 = np.dot(a_1, weights_2)\n",
    "output = softmax(z_2)"
   ]
  },
  {
   "cell_type": "code",
   "execution_count": 28,
   "metadata": {},
   "outputs": [
    {
     "data": {
      "text/plain": [
       "0.9523"
      ]
     },
     "execution_count": 28,
     "metadata": {},
     "output_type": "execute_result"
    }
   ],
   "source": [
    "percent_true_answer(output, train_labels) / len(train_labels)"
   ]
  },
  {
   "cell_type": "code",
   "execution_count": null,
   "metadata": {},
   "outputs": [],
   "source": [
    "#reading the already configured weights\n",
    "\n",
    "weights_1 = np.array(pd.read_csv(\"weights_1.csv\"))\n",
    "weights_2 = np.array(pd.read_csv(\"weights_2.csv\"))\n"
   ]
  },
  {
   "cell_type": "code",
   "execution_count": null,
   "metadata": {},
   "outputs": [],
   "source": [
    "#a drawing for determining numbers\n",
    "\n",
    "pygame.init()\n",
    "\n",
    "#window and canvas dimensions\n",
    "WIDTH, HEIGHT = 400, 400\n",
    "CANVAS_SIZE = 28\n",
    "CELL_SIZE = WIDTH // CANVAS_SIZE\n",
    "\n",
    "#colors\n",
    "WHITE = (255, 255, 255)\n",
    "BLACK = (0, 0, 0)\n",
    "\n",
    "#create screen\n",
    "screen = pygame.display.set_mode((WIDTH, HEIGHT))\n",
    "pygame.display.set_caption(\"Рисование\")\n",
    "\n",
    "#create мmatrix for storage information about\n",
    "matrix = np.zeros((CANVAS_SIZE, CANVAS_SIZE), dtype=int)\n",
    "\n",
    "drawing = False\n",
    "\n",
    "#flag for loop control \n",
    "running = True\n",
    "\n",
    "last_print_time = time.time()\n",
    "\n",
    "#main loop\n",
    "while running:\n",
    "    for event in pygame.event.get():\n",
    "        if event.type == pygame.QUIT:\n",
    "            running = False\n",
    "        elif event.type == pygame.MOUSEBUTTONDOWN and event.button == 1:\n",
    "            drawing = True\n",
    "        elif event.type == pygame.MOUSEBUTTONUP and event.button == 1:\n",
    "            drawing = False\n",
    "        elif event.type == pygame.MOUSEMOTION and drawing:\n",
    "            #we get the mouse coordinates and convert them to the coordinates of the cell on the canvas\n",
    "            \n",
    "            x, y = event.pos\n",
    "            x //= CELL_SIZE\n",
    "            y //= CELL_SIZE\n",
    "            \n",
    "            #setting the value 255 (white) in the central cell\n",
    "            matrix[y][x] = 255\n",
    "                                \n",
    "        elif event.type == pygame.KEYDOWN and event.key == pygame.K_c:\n",
    "            #if the 'c' key is pressed, we clear the canvas(fill the matrix with zeroes)\n",
    "            matrix.fill(0)\n",
    "\n",
    "    #renderin on the screen\n",
    "    screen.fill(BLACK)\n",
    "\n",
    "    #we go through each cell of the matrix\n",
    "    for y in range(CANVAS_SIZE):\n",
    "        for x in range(CANVAS_SIZE):\n",
    "            if matrix[y][x] == 255:  #if the cell value is 255 (the point you are drawing)\n",
    "                #draw a white rectangle at the position of this cell\n",
    "                if matrix[y][x] == 255:\n",
    "                    pygame.draw.rect(screen, WHITE, (x * CELL_SIZE, y * CELL_SIZE, CELL_SIZE, CELL_SIZE))\n",
    "                \n",
    "    \n",
    "                #draw 4 more gray squares around this cell\n",
    "                for dy, dx in [(0, -1), (-1, 0), (0, 1), (1, 0)]:\n",
    "                    #we check that the neighboring cell is located within the canvas\n",
    "                    if 0 <= y + dy < CANVAS_SIZE and 0 <= x + dx < CANVAS_SIZE:\n",
    "                        #check if there is no white color in the next cell\n",
    "                        if matrix[y + dy][x + dx] != 255:\n",
    "                            #draw a gray rectangle in the next cell\n",
    "                            pygame.draw.rect(screen, (100, 100, 100), ((x + dx) * CELL_SIZE, (y + dy) * CELL_SIZE, CELL_SIZE, CELL_SIZE))\n",
    "\n",
    "\n",
    "\n",
    "    scaler.fit(matrix)\n",
    "\n",
    "    dinamic_data = scaler.transform(matrix)\n",
    "    dinamic_data = dinamic_data.reshape(28**2)\n",
    "\n",
    "    dinamic_z_1 = np.dot(np.array([dinamic_data]), weights_1)\n",
    "    dinamic_z_2 = np.dot(dinamic_z_1, weights_2)\n",
    "\n",
    "    dinamic_out = softmax(dinamic_z_2)\n",
    "\n",
    "    pygame.display.flip()\n",
    "\n",
    "    if time.time() - last_print_time >= 0.01:\n",
    "        clear_output(wait = True)\n",
    "        display(f\"This is number - {int(*answer(dinamic_out))} || Neuron number [{int(*answer(dinamic_out)) + 1}] || activation - {max(*dinamic_out)}\")\n",
    "        last_print_time = time.time()\n",
    "\n",
    "#finish Pygame\n",
    "pygame.quit()\n",
    "pd.set_option('display.max_rows', None)\n",
    "pd.set_option('display.max_columns', None)\n"
   ]
  },
  {
   "cell_type": "code",
   "execution_count": null,
   "metadata": {},
   "outputs": [],
   "source": [
    "#output of the first 25 numbers of the test sample\n",
    "plt.figure(figsize=(10,10))\n",
    "for i in range(25):\n",
    "    plt.subplot(5,5,i+1)\n",
    "    plt.imshow(test_images[i], cmap='gray')\n",
    "    plt.title(f\"Label: {test_labels[i]}\")\n",
    "    plt.axis('off')\n",
    "plt.show()"
   ]
  },
  {
   "cell_type": "code",
   "execution_count": null,
   "metadata": {},
   "outputs": [],
   "source": [
    "#substituting weights for a test sample\n",
    "z_1_test = np.dot(matrix_test_x_normalized_reshaped, weights_1)\n",
    "a_1_test = relu(z_1_test)\n",
    "z_2_test = np.dot(a_1_test, weights_2)\n",
    "output_test = softmax(z_2_test)\n",
    "error_test = matrix_test_target - output_test"
   ]
  },
  {
   "cell_type": "code",
   "execution_count": null,
   "metadata": {},
   "outputs": [],
   "source": [
    "pd.reset_option('display.max_rows')\n",
    "pd.reset_option('display.max_columns')\n",
    "\n",
    "answer(output_test[:25])"
   ]
  },
  {
   "cell_type": "code",
   "execution_count": 29,
   "metadata": {},
   "outputs": [
    {
     "data": {
      "text/plain": [
       "0.9504"
      ]
     },
     "execution_count": 29,
     "metadata": {},
     "output_type": "execute_result"
    }
   ],
   "source": [
    "#the output of the accuracy of the neural network on the test sample\n",
    "percent_true_answer(output_test, test_labels) / len(matrix_test_x)"
   ]
  },
  {
   "cell_type": "code",
   "execution_count": null,
   "metadata": {},
   "outputs": [],
   "source": [
    "#save weigths in csv files\n",
    "\n",
    "weights_1_df = pd.DataFrame(weights_1)\n",
    "weights_2_df = pd.DataFrame(weights_2)\n",
    "\n",
    "weights_1_df.to_csv(\"weights_1.csv\", index = False)\n",
    "weights_2_df.to_csv(\"weights_2.csv\", index = False)"
   ]
  }
 ],
 "metadata": {
  "kernelspec": {
   "display_name": "Python 3",
   "language": "python",
   "name": "python3"
  },
  "language_info": {
   "codemirror_mode": {
    "name": "ipython",
    "version": 3
   },
   "file_extension": ".py",
   "mimetype": "text/x-python",
   "name": "python",
   "nbconvert_exporter": "python",
   "pygments_lexer": "ipython3",
   "version": "3.8.1"
  }
 },
 "nbformat": 4,
 "nbformat_minor": 2
}
